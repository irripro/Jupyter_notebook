{
 "cells": [
  {
   "cell_type": "code",
   "execution_count": 7,
   "metadata": {},
   "outputs": [
    {
     "name": "stdout",
     "output_type": "stream",
     "text": [
      "input:qwer 14s5 %^* sgd5\n",
      "alpha = 8,space = 3,digit = 4,others = 3,\n"
     ]
    }
   ],
   "source": [
    " a = input('input:')\n",
    "alpha = 0\n",
    "space = 0\n",
    "digit = 0\n",
    "others = 0\n",
    "for x in a:\n",
    "    if x.isalpha():\n",
    "        alpha += 1\n",
    "    elif x.isspace():\n",
    "        space += 1\n",
    "    elif x.isdigit():\n",
    "        digit += 1\n",
    "    else:\n",
    "        others += 1\n",
    "print('alpha = %d,space = %d,digit = %d,others = %d,' %(alpha, space, digit, others))"
   ]
  },
  {
   "cell_type": "code",
   "execution_count": null,
   "metadata": {},
   "outputs": [],
   "source": []
  }
 ],
 "metadata": {
  "kernelspec": {
   "display_name": "Python 3",
   "language": "python",
   "name": "python3"
  },
  "language_info": {
   "codemirror_mode": {
    "name": "ipython",
    "version": 3
   },
   "file_extension": ".py",
   "mimetype": "text/x-python",
   "name": "python",
   "nbconvert_exporter": "python",
   "pygments_lexer": "ipython3",
   "version": "3.7.3"
  }
 },
 "nbformat": 4,
 "nbformat_minor": 2
}
