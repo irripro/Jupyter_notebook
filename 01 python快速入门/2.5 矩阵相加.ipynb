{
 "cells": [
  {
   "cell_type": "code",
   "execution_count": 2,
   "metadata": {},
   "outputs": [
    {
     "name": "stdout",
     "output_type": "stream",
     "text": [
      "[8, 10, 12]\n",
      "[8, 10, 12]\n",
      "[8, 10, 12]\n"
     ]
    }
   ],
   "source": [
    "X = [[1,2,3],\n",
    "     [4,5,6],\n",
    "     [7,8,9]\n",
    "    ]\n",
    "Y = [[7,8,9],\n",
    "     [4,5,6],\n",
    "     [1,2,3]\n",
    "    ]\n",
    "Z = [[0,0,0],\n",
    "     [0,0,0],\n",
    "     [0,0,0]\n",
    "    ]\n",
    "for i in range(3):\n",
    "    for j in range(3):\n",
    "        Z[i][j] = X[i][j] + Y[i][j]\n",
    "for z in Z:\n",
    "    print(z)"
   ]
  },
  {
   "cell_type": "code",
   "execution_count": null,
   "metadata": {},
   "outputs": [],
   "source": []
  }
 ],
 "metadata": {
  "kernelspec": {
   "display_name": "Python 3",
   "language": "python",
   "name": "python3"
  },
  "language_info": {
   "codemirror_mode": {
    "name": "ipython",
    "version": 3
   },
   "file_extension": ".py",
   "mimetype": "text/x-python",
   "name": "python",
   "nbconvert_exporter": "python",
   "pygments_lexer": "ipython3",
   "version": "3.7.3"
  }
 },
 "nbformat": 4,
 "nbformat_minor": 2
}
