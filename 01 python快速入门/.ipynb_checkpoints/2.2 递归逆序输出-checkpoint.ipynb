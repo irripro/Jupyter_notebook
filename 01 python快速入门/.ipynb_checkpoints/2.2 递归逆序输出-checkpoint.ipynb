{
 "cells": [
  {
   "cell_type": "code",
   "execution_count": 2,
   "metadata": {},
   "outputs": [
    {
     "name": "stdout",
     "output_type": "stream",
     "text": [
      "输入一串字符125kyh\n",
      "h\n",
      "y\n",
      "k\n",
      "5\n",
      "2\n",
      "1\n"
     ]
    }
   ],
   "source": [
    "def output(s,l):\n",
    "    if l == 0:\n",
    "        return\n",
    "    print(s[l-1])\n",
    "    output(s,l-1)\n",
    "\n",
    "s = input(\"输入一串字符\")\n",
    "l = len(s)\n",
    "output(s,l)"
   ]
  },
  {
   "cell_type": "code",
   "execution_count": null,
   "metadata": {},
   "outputs": [],
   "source": []
  }
 ],
 "metadata": {
  "kernelspec": {
   "display_name": "Python 3",
   "language": "python",
   "name": "python3"
  },
  "language_info": {
   "codemirror_mode": {
    "name": "ipython",
    "version": 3
   },
   "file_extension": ".py",
   "mimetype": "text/x-python",
   "name": "python",
   "nbconvert_exporter": "python",
   "pygments_lexer": "ipython3",
   "version": "3.7.3"
  }
 },
 "nbformat": 4,
 "nbformat_minor": 2
}
