{
 "cells": [
  {
   "cell_type": "code",
   "execution_count": 23,
   "metadata": {},
   "outputs": [
    {
     "name": "stdout",
     "output_type": "stream",
     "text": [
      "[50.0, 25.0, 12.5, 6.25, 3.125, 1.5625, 0.78125, 0.390625, 0.1953125, 0.09765625]\n",
      "299.8046875\n",
      "0.09765625\n"
     ]
    }
   ],
   "source": [
    "h = 100 # 小球初始高度\n",
    "time = 10 # 小球落地反弹次数\n",
    "height = [] # 小球每次反弹的高度\n",
    "sum = 0\n",
    "for i in range(1,time+1):\n",
    "    h /= 2\n",
    "    height.append(h)\n",
    "print(height) \n",
    "for j in range(0,time):\n",
    "    sum += height[j]*2\n",
    "sum += 100\n",
    "print(sum)\n",
    "print(min(height))\n"
   ]
  },
  {
   "cell_type": "code",
   "execution_count": null,
   "metadata": {},
   "outputs": [],
   "source": []
  },
  {
   "cell_type": "code",
   "execution_count": null,
   "metadata": {},
   "outputs": [],
   "source": []
  }
 ],
 "metadata": {
  "kernelspec": {
   "display_name": "Python 3",
   "language": "python",
   "name": "python3"
  },
  "language_info": {
   "codemirror_mode": {
    "name": "ipython",
    "version": 3
   },
   "file_extension": ".py",
   "mimetype": "text/x-python",
   "name": "python",
   "nbconvert_exporter": "python",
   "pygments_lexer": "ipython3",
   "version": "3.7.3"
  }
 },
 "nbformat": 4,
 "nbformat_minor": 2
}
